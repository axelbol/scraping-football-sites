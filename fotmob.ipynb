{
 "cells": [
  {
   "cell_type": "markdown",
   "metadata": {},
   "source": [
    "**FOTMOB** (https://www.fotmob.com)\n",
    "\n",
    "FotMob is an essential tool for fans and experienced stats nerd alike."
   ]
  },
  {
   "cell_type": "code",
   "execution_count": 18,
   "metadata": {},
   "outputs": [],
   "source": [
    "import requests\n",
    "import pandas as pd"
   ]
  },
  {
   "cell_type": "code",
   "execution_count": 2,
   "metadata": {},
   "outputs": [],
   "source": [
    "# get the match id from a url\n",
    "url = 'https://www.fotmob.com/es/matches/real-sociedad-vs-real-madrid/2g087q#4506794'\n",
    "match_id = url.split('#')[-1]"
   ]
  },
  {
   "cell_type": "code",
   "execution_count": 3,
   "metadata": {},
   "outputs": [
    {
     "data": {
      "text/plain": [
       "'4506794'"
      ]
     },
     "execution_count": 3,
     "metadata": {},
     "output_type": "execute_result"
    }
   ],
   "source": [
    "match_id"
   ]
  },
  {
   "cell_type": "code",
   "execution_count": 4,
   "metadata": {},
   "outputs": [],
   "source": [
    "params = {\n",
    "    'matchId': match_id,\n",
    "}\n",
    "\n",
    "response = requests.get('https://www.fotmob.com/api/matchDetails', params=params)"
   ]
  },
  {
   "cell_type": "code",
   "execution_count": 5,
   "metadata": {},
   "outputs": [],
   "source": [
    "data = response.json()"
   ]
  },
  {
   "cell_type": "code",
   "execution_count": 9,
   "metadata": {},
   "outputs": [
    {
     "data": {
      "text/plain": [
       "dict"
      ]
     },
     "execution_count": 9,
     "metadata": {},
     "output_type": "execute_result"
    }
   ],
   "source": [
    "# let's check the type of data\n",
    "type(data)"
   ]
  },
  {
   "cell_type": "code",
   "execution_count": 10,
   "metadata": {},
   "outputs": [
    {
     "data": {
      "text/plain": [
       "dict_keys(['general', 'header', 'nav', 'ongoing', 'hasPendingVAR', 'content', 'seo'])"
      ]
     },
     "execution_count": 10,
     "metadata": {},
     "output_type": "execute_result"
    }
   ],
   "source": [
    "# let's see which keys we can work with\n",
    "data.keys()"
   ]
  },
  {
   "cell_type": "code",
   "execution_count": 11,
   "metadata": {},
   "outputs": [],
   "source": [
    "# we're going to get the shots of the match\n",
    "shotmap = data['content']['shotmap']['shots']"
   ]
  },
  {
   "cell_type": "code",
   "execution_count": 13,
   "metadata": {},
   "outputs": [],
   "source": [
    "df_shots = pd.DataFrame(shotmap)"
   ]
  },
  {
   "cell_type": "code",
   "execution_count": 14,
   "metadata": {},
   "outputs": [
    {
     "data": {
      "text/html": [
       "<div>\n",
       "<style scoped>\n",
       "    .dataframe tbody tr th:only-of-type {\n",
       "        vertical-align: middle;\n",
       "    }\n",
       "\n",
       "    .dataframe tbody tr th {\n",
       "        vertical-align: top;\n",
       "    }\n",
       "\n",
       "    .dataframe thead th {\n",
       "        text-align: right;\n",
       "    }\n",
       "</style>\n",
       "<table border=\"1\" class=\"dataframe\">\n",
       "  <thead>\n",
       "    <tr style=\"text-align: right;\">\n",
       "      <th></th>\n",
       "      <th>id</th>\n",
       "      <th>eventType</th>\n",
       "      <th>teamId</th>\n",
       "      <th>playerId</th>\n",
       "      <th>playerName</th>\n",
       "      <th>x</th>\n",
       "      <th>y</th>\n",
       "      <th>min</th>\n",
       "      <th>minAdded</th>\n",
       "      <th>isBlocked</th>\n",
       "      <th>...</th>\n",
       "      <th>period</th>\n",
       "      <th>isOwnGoal</th>\n",
       "      <th>onGoalShot</th>\n",
       "      <th>isSavedOffLine</th>\n",
       "      <th>isFromInsideBox</th>\n",
       "      <th>firstName</th>\n",
       "      <th>lastName</th>\n",
       "      <th>fullName</th>\n",
       "      <th>teamColor</th>\n",
       "      <th>shortName</th>\n",
       "    </tr>\n",
       "  </thead>\n",
       "  <tbody>\n",
       "    <tr>\n",
       "      <th>0</th>\n",
       "      <td>2720276917</td>\n",
       "      <td>AttemptSaved</td>\n",
       "      <td>8560</td>\n",
       "      <td>844477</td>\n",
       "      <td>Sergio Gomez</td>\n",
       "      <td>77.416990</td>\n",
       "      <td>23.018344</td>\n",
       "      <td>2</td>\n",
       "      <td>NaN</td>\n",
       "      <td>False</td>\n",
       "      <td>...</td>\n",
       "      <td>FirstHalf</td>\n",
       "      <td>False</td>\n",
       "      <td>{'x': 1.7261904761904774, 'y': 0.1936507926984...</td>\n",
       "      <td>False</td>\n",
       "      <td>False</td>\n",
       "      <td>Sergio</td>\n",
       "      <td>Gomez</td>\n",
       "      <td>Sergio Gomez</td>\n",
       "      <td>#0056B3</td>\n",
       "      <td>NaN</td>\n",
       "    </tr>\n",
       "    <tr>\n",
       "      <th>1</th>\n",
       "      <td>2720277175</td>\n",
       "      <td>AttemptSaved</td>\n",
       "      <td>8560</td>\n",
       "      <td>959597</td>\n",
       "      <td>Luka Sucic</td>\n",
       "      <td>77.304369</td>\n",
       "      <td>20.636178</td>\n",
       "      <td>3</td>\n",
       "      <td>NaN</td>\n",
       "      <td>True</td>\n",
       "      <td>...</td>\n",
       "      <td>FirstHalf</td>\n",
       "      <td>False</td>\n",
       "      <td>{'x': 0.8991402116402113, 'y': 0.3227513211640...</td>\n",
       "      <td>False</td>\n",
       "      <td>False</td>\n",
       "      <td>Luka</td>\n",
       "      <td>Sucic</td>\n",
       "      <td>Luka Sucic</td>\n",
       "      <td>#0056B3</td>\n",
       "      <td>NaN</td>\n",
       "    </tr>\n",
       "    <tr>\n",
       "      <th>2</th>\n",
       "      <td>2720280217</td>\n",
       "      <td>AttemptSaved</td>\n",
       "      <td>8633</td>\n",
       "      <td>743533</td>\n",
       "      <td>Federico Valverde</td>\n",
       "      <td>82.372330</td>\n",
       "      <td>36.821250</td>\n",
       "      <td>7</td>\n",
       "      <td>NaN</td>\n",
       "      <td>True</td>\n",
       "      <td>...</td>\n",
       "      <td>FirstHalf</td>\n",
       "      <td>False</td>\n",
       "      <td>{'x': 1.0605158730158726, 'y': 0.3227513211640...</td>\n",
       "      <td>False</td>\n",
       "      <td>False</td>\n",
       "      <td>Federico</td>\n",
       "      <td>Valverde</td>\n",
       "      <td>Federico Valverde</td>\n",
       "      <td>#085098</td>\n",
       "      <td>NaN</td>\n",
       "    </tr>\n",
       "    <tr>\n",
       "      <th>3</th>\n",
       "      <td>2720290647</td>\n",
       "      <td>AttemptSaved</td>\n",
       "      <td>8633</td>\n",
       "      <td>701154</td>\n",
       "      <td>Kylian Mbappé</td>\n",
       "      <td>93.200000</td>\n",
       "      <td>21.266752</td>\n",
       "      <td>18</td>\n",
       "      <td>NaN</td>\n",
       "      <td>False</td>\n",
       "      <td>...</td>\n",
       "      <td>FirstHalf</td>\n",
       "      <td>False</td>\n",
       "      <td>{'x': 1.0403439153439162, 'y': 0.0220829851322...</td>\n",
       "      <td>False</td>\n",
       "      <td>True</td>\n",
       "      <td>Kylian</td>\n",
       "      <td>Mbappé</td>\n",
       "      <td>Kylian Mbappé</td>\n",
       "      <td>#085098</td>\n",
       "      <td>NaN</td>\n",
       "    </tr>\n",
       "    <tr>\n",
       "      <th>4</th>\n",
       "      <td>2720293245</td>\n",
       "      <td>AttemptSaved</td>\n",
       "      <td>8633</td>\n",
       "      <td>846033</td>\n",
       "      <td>Vinicius Junior</td>\n",
       "      <td>91.300000</td>\n",
       "      <td>42.061562</td>\n",
       "      <td>22</td>\n",
       "      <td>NaN</td>\n",
       "      <td>True</td>\n",
       "      <td>...</td>\n",
       "      <td>FirstHalf</td>\n",
       "      <td>False</td>\n",
       "      <td>{'x': 1.0806878306878307, 'y': 0.3227513211640...</td>\n",
       "      <td>False</td>\n",
       "      <td>True</td>\n",
       "      <td>Vinicius</td>\n",
       "      <td>Junior</td>\n",
       "      <td>Vinicius Junior</td>\n",
       "      <td>#085098</td>\n",
       "      <td>Vinicius</td>\n",
       "    </tr>\n",
       "  </tbody>\n",
       "</table>\n",
       "<p>5 rows × 29 columns</p>\n",
       "</div>"
      ],
      "text/plain": [
       "           id     eventType  teamId  playerId         playerName          x  \\\n",
       "0  2720276917  AttemptSaved    8560    844477       Sergio Gomez  77.416990   \n",
       "1  2720277175  AttemptSaved    8560    959597         Luka Sucic  77.304369   \n",
       "2  2720280217  AttemptSaved    8633    743533  Federico Valverde  82.372330   \n",
       "3  2720290647  AttemptSaved    8633    701154      Kylian Mbappé  93.200000   \n",
       "4  2720293245  AttemptSaved    8633    846033    Vinicius Junior  91.300000   \n",
       "\n",
       "           y  min  minAdded  isBlocked  ...     period  isOwnGoal  \\\n",
       "0  23.018344    2       NaN      False  ...  FirstHalf      False   \n",
       "1  20.636178    3       NaN       True  ...  FirstHalf      False   \n",
       "2  36.821250    7       NaN       True  ...  FirstHalf      False   \n",
       "3  21.266752   18       NaN      False  ...  FirstHalf      False   \n",
       "4  42.061562   22       NaN       True  ...  FirstHalf      False   \n",
       "\n",
       "                                          onGoalShot  isSavedOffLine  \\\n",
       "0  {'x': 1.7261904761904774, 'y': 0.1936507926984...           False   \n",
       "1  {'x': 0.8991402116402113, 'y': 0.3227513211640...           False   \n",
       "2  {'x': 1.0605158730158726, 'y': 0.3227513211640...           False   \n",
       "3  {'x': 1.0403439153439162, 'y': 0.0220829851322...           False   \n",
       "4  {'x': 1.0806878306878307, 'y': 0.3227513211640...           False   \n",
       "\n",
       "   isFromInsideBox  firstName  lastName           fullName teamColor shortName  \n",
       "0            False     Sergio     Gomez       Sergio Gomez   #0056B3       NaN  \n",
       "1            False       Luka     Sucic         Luka Sucic   #0056B3       NaN  \n",
       "2            False   Federico  Valverde  Federico Valverde   #085098       NaN  \n",
       "3             True     Kylian    Mbappé      Kylian Mbappé   #085098       NaN  \n",
       "4             True   Vinicius    Junior    Vinicius Junior   #085098  Vinicius  \n",
       "\n",
       "[5 rows x 29 columns]"
      ]
     },
     "execution_count": 14,
     "metadata": {},
     "output_type": "execute_result"
    }
   ],
   "source": [
    "df_shots.head()"
   ]
  },
  {
   "cell_type": "code",
   "execution_count": 17,
   "metadata": {},
   "outputs": [
    {
     "data": {
      "text/plain": [
       "27"
      ]
     },
     "execution_count": 17,
     "metadata": {},
     "output_type": "execute_result"
    }
   ],
   "source": [
    "# let's check the length\n",
    "len(df_shots)"
   ]
  }
 ],
 "metadata": {
  "kernelspec": {
   "display_name": "mplsoccer",
   "language": "python",
   "name": "python3"
  },
  "language_info": {
   "codemirror_mode": {
    "name": "ipython",
    "version": 3
   },
   "file_extension": ".py",
   "mimetype": "text/x-python",
   "name": "python",
   "nbconvert_exporter": "python",
   "pygments_lexer": "ipython3",
   "version": "3.12.4"
  }
 },
 "nbformat": 4,
 "nbformat_minor": 2
}
