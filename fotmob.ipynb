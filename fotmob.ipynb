{
 "cells": [
  {
   "cell_type": "markdown",
   "metadata": {},
   "source": [
    "**FOTMOB** (https://www.fotmob.com)\n",
    "\n",
    "FotMob is an essential tool for fans and experienced stats nerd alike."
   ]
  },
  {
   "cell_type": "code",
   "execution_count": 1,
   "metadata": {},
   "outputs": [],
   "source": [
    "import requests\n",
    "import pandas as pd\n",
    "from bs4 import BeautifulSoup\n",
    "import json"
   ]
  },
  {
   "cell_type": "code",
   "execution_count": 2,
   "metadata": {},
   "outputs": [
    {
     "data": {
      "text/plain": [
       "'https://www.fotmob.com/match/4507128'"
      ]
     },
     "execution_count": 2,
     "metadata": {},
     "output_type": "execute_result"
    }
   ],
   "source": [
    "base_url = 'https://www.fotmob.com/match/'\n",
    "match = str(input('Please enter the match id: '))\n",
    "url = base_url+match\n",
    "url"
   ]
  },
  {
   "cell_type": "code",
   "execution_count": 3,
   "metadata": {},
   "outputs": [],
   "source": [
    "# Use requests to get the webpage and BeautifulSoup to parse the page\n",
    "res = requests.get(url)\n",
    "soup = BeautifulSoup(res.content, 'lxml')\n",
    "scripts = soup.find_all('script')"
   ]
  },
  {
   "cell_type": "code",
   "execution_count": 6,
   "metadata": {},
   "outputs": [],
   "source": [
    "#get the last string\n",
    "strings = scripts[-1].string"
   ]
  },
  {
   "cell_type": "code",
   "execution_count": null,
   "metadata": {},
   "outputs": [],
   "source": [
    "#delete the last bit, to get just the usefull information\n",
    "ind_end = strings.index('\"page\":')\n",
    "json_data = strings[:ind_end]\n",
    "repl = \"}\"\n",
    "json_data = json_data[:-1] + repl\n",
    "data = json.loads(json_data)"
   ]
  },
  {
   "cell_type": "code",
   "execution_count": 15,
   "metadata": {},
   "outputs": [
    {
     "data": {
      "text/plain": [
       "dict"
      ]
     },
     "execution_count": 15,
     "metadata": {},
     "output_type": "execute_result"
    }
   ],
   "source": [
    "# let's check the type of data\n",
    "type(data)"
   ]
  },
  {
   "cell_type": "code",
   "execution_count": 17,
   "metadata": {},
   "outputs": [
    {
     "data": {
      "text/plain": [
       "dict_keys(['props'])"
      ]
     },
     "execution_count": 17,
     "metadata": {},
     "output_type": "execute_result"
    }
   ],
   "source": [
    "# let's see which keys we can work with\n",
    "data.keys()"
   ]
  },
  {
   "cell_type": "code",
   "execution_count": 11,
   "metadata": {},
   "outputs": [],
   "source": [
    "#create some dataframes, the important ones\n",
    "df_general = data[\"props\"][\"pageProps\"][\"general\"]"
   ]
  },
  {
   "cell_type": "code",
   "execution_count": 18,
   "metadata": {},
   "outputs": [],
   "source": [
    "#create some dataframes, the important ones\n",
    "df_general = data[\"props\"][\"pageProps\"][\"general\"]\n",
    "\n",
    "df_content = data[\"props\"][\"pageProps\"][\"content\"]\n",
    "\n",
    "df_shots = df_content[\"shotmap\"][\"shots\"]"
   ]
  },
  {
   "cell_type": "code",
   "execution_count": 19,
   "metadata": {},
   "outputs": [],
   "source": [
    "df_shots = pd.DataFrame(df_shots)"
   ]
  },
  {
   "cell_type": "code",
   "execution_count": 20,
   "metadata": {},
   "outputs": [
    {
     "data": {
      "text/html": [
       "<div>\n",
       "<style scoped>\n",
       "    .dataframe tbody tr th:only-of-type {\n",
       "        vertical-align: middle;\n",
       "    }\n",
       "\n",
       "    .dataframe tbody tr th {\n",
       "        vertical-align: top;\n",
       "    }\n",
       "\n",
       "    .dataframe thead th {\n",
       "        text-align: right;\n",
       "    }\n",
       "</style>\n",
       "<table border=\"1\" class=\"dataframe\">\n",
       "  <thead>\n",
       "    <tr style=\"text-align: right;\">\n",
       "      <th></th>\n",
       "      <th>id</th>\n",
       "      <th>eventType</th>\n",
       "      <th>teamId</th>\n",
       "      <th>playerId</th>\n",
       "      <th>playerName</th>\n",
       "      <th>x</th>\n",
       "      <th>y</th>\n",
       "      <th>min</th>\n",
       "      <th>minAdded</th>\n",
       "      <th>isBlocked</th>\n",
       "      <th>...</th>\n",
       "      <th>isOwnGoal</th>\n",
       "      <th>onGoalShot</th>\n",
       "      <th>isSavedOffLine</th>\n",
       "      <th>isFromInsideBox</th>\n",
       "      <th>keeperId</th>\n",
       "      <th>firstName</th>\n",
       "      <th>lastName</th>\n",
       "      <th>fullName</th>\n",
       "      <th>shortName</th>\n",
       "      <th>teamColor</th>\n",
       "    </tr>\n",
       "  </thead>\n",
       "  <tbody>\n",
       "    <tr>\n",
       "      <th>0</th>\n",
       "      <td>2801961273</td>\n",
       "      <td>Miss</td>\n",
       "      <td>8633</td>\n",
       "      <td>846033</td>\n",
       "      <td>Vinicius Junior</td>\n",
       "      <td>91.500000</td>\n",
       "      <td>45.051720</td>\n",
       "      <td>2</td>\n",
       "      <td>NaN</td>\n",
       "      <td>False</td>\n",
       "      <td>...</td>\n",
       "      <td>False</td>\n",
       "      <td>{'x': 2, 'y': 0.04455132603730527, 'zoomRatio'...</td>\n",
       "      <td>False</td>\n",
       "      <td>True</td>\n",
       "      <td>NaN</td>\n",
       "      <td>Vinicius</td>\n",
       "      <td>Junior</td>\n",
       "      <td>Vinicius Junior</td>\n",
       "      <td>Vinicius</td>\n",
       "      <td>#085098</td>\n",
       "    </tr>\n",
       "    <tr>\n",
       "      <th>1</th>\n",
       "      <td>2801962071</td>\n",
       "      <td>Miss</td>\n",
       "      <td>9825</td>\n",
       "      <td>961995</td>\n",
       "      <td>Bukayo Saka</td>\n",
       "      <td>95.157895</td>\n",
       "      <td>15.451465</td>\n",
       "      <td>6</td>\n",
       "      <td>NaN</td>\n",
       "      <td>False</td>\n",
       "      <td>...</td>\n",
       "      <td>False</td>\n",
       "      <td>{'x': 1.1102230246251565e-16, 'y': 0.078592038...</td>\n",
       "      <td>False</td>\n",
       "      <td>True</td>\n",
       "      <td>NaN</td>\n",
       "      <td>Bukayo</td>\n",
       "      <td>Saka</td>\n",
       "      <td>Bukayo Saka</td>\n",
       "      <td>NaN</td>\n",
       "      <td>#bd0510</td>\n",
       "    </tr>\n",
       "    <tr>\n",
       "      <th>2</th>\n",
       "      <td>2801962517</td>\n",
       "      <td>AttemptSaved</td>\n",
       "      <td>9825</td>\n",
       "      <td>961995</td>\n",
       "      <td>Bukayo Saka</td>\n",
       "      <td>86.460294</td>\n",
       "      <td>23.578854</td>\n",
       "      <td>8</td>\n",
       "      <td>NaN</td>\n",
       "      <td>False</td>\n",
       "      <td>...</td>\n",
       "      <td>False</td>\n",
       "      <td>{'x': 0.455357142857142, 'y': 0.15118351359788...</td>\n",
       "      <td>False</td>\n",
       "      <td>False</td>\n",
       "      <td>170323.0</td>\n",
       "      <td>Bukayo</td>\n",
       "      <td>Saka</td>\n",
       "      <td>Bukayo Saka</td>\n",
       "      <td>NaN</td>\n",
       "      <td>#bd0510</td>\n",
       "    </tr>\n",
       "    <tr>\n",
       "      <th>3</th>\n",
       "      <td>2801963787</td>\n",
       "      <td>AttemptSaved</td>\n",
       "      <td>9825</td>\n",
       "      <td>961995</td>\n",
       "      <td>Bukayo Saka</td>\n",
       "      <td>94.000000</td>\n",
       "      <td>34.000000</td>\n",
       "      <td>13</td>\n",
       "      <td>NaN</td>\n",
       "      <td>False</td>\n",
       "      <td>...</td>\n",
       "      <td>False</td>\n",
       "      <td>{'x': 0.455357142857142, 'y': 0.22592592481481...</td>\n",
       "      <td>False</td>\n",
       "      <td>True</td>\n",
       "      <td>170323.0</td>\n",
       "      <td>Bukayo</td>\n",
       "      <td>Saka</td>\n",
       "      <td>Bukayo Saka</td>\n",
       "      <td>NaN</td>\n",
       "      <td>#bd0510</td>\n",
       "    </tr>\n",
       "    <tr>\n",
       "      <th>4</th>\n",
       "      <td>2801964703</td>\n",
       "      <td>AttemptSaved</td>\n",
       "      <td>8633</td>\n",
       "      <td>359193</td>\n",
       "      <td>Lucas Vázquez</td>\n",
       "      <td>76.853883</td>\n",
       "      <td>34.991250</td>\n",
       "      <td>17</td>\n",
       "      <td>NaN</td>\n",
       "      <td>True</td>\n",
       "      <td>...</td>\n",
       "      <td>False</td>\n",
       "      <td>{'x': 1, 'y': 0.32275132116402117, 'zoomRatio'...</td>\n",
       "      <td>False</td>\n",
       "      <td>False</td>\n",
       "      <td>NaN</td>\n",
       "      <td>Lucas</td>\n",
       "      <td>Vázquez</td>\n",
       "      <td>Lucas Vázquez</td>\n",
       "      <td>NaN</td>\n",
       "      <td>#085098</td>\n",
       "    </tr>\n",
       "  </tbody>\n",
       "</table>\n",
       "<p>5 rows × 30 columns</p>\n",
       "</div>"
      ],
      "text/plain": [
       "           id     eventType  teamId  playerId       playerName          x  \\\n",
       "0  2801961273          Miss    8633    846033  Vinicius Junior  91.500000   \n",
       "1  2801962071          Miss    9825    961995      Bukayo Saka  95.157895   \n",
       "2  2801962517  AttemptSaved    9825    961995      Bukayo Saka  86.460294   \n",
       "3  2801963787  AttemptSaved    9825    961995      Bukayo Saka  94.000000   \n",
       "4  2801964703  AttemptSaved    8633    359193    Lucas Vázquez  76.853883   \n",
       "\n",
       "           y  min  minAdded  isBlocked  ...  isOwnGoal  \\\n",
       "0  45.051720    2       NaN      False  ...      False   \n",
       "1  15.451465    6       NaN      False  ...      False   \n",
       "2  23.578854    8       NaN      False  ...      False   \n",
       "3  34.000000   13       NaN      False  ...      False   \n",
       "4  34.991250   17       NaN       True  ...      False   \n",
       "\n",
       "                                          onGoalShot  isSavedOffLine  \\\n",
       "0  {'x': 2, 'y': 0.04455132603730527, 'zoomRatio'...           False   \n",
       "1  {'x': 1.1102230246251565e-16, 'y': 0.078592038...           False   \n",
       "2  {'x': 0.455357142857142, 'y': 0.15118351359788...           False   \n",
       "3  {'x': 0.455357142857142, 'y': 0.22592592481481...           False   \n",
       "4  {'x': 1, 'y': 0.32275132116402117, 'zoomRatio'...           False   \n",
       "\n",
       "   isFromInsideBox  keeperId  firstName  lastName         fullName shortName  \\\n",
       "0             True       NaN   Vinicius    Junior  Vinicius Junior  Vinicius   \n",
       "1             True       NaN     Bukayo      Saka      Bukayo Saka       NaN   \n",
       "2            False  170323.0     Bukayo      Saka      Bukayo Saka       NaN   \n",
       "3             True  170323.0     Bukayo      Saka      Bukayo Saka       NaN   \n",
       "4            False       NaN      Lucas   Vázquez    Lucas Vázquez       NaN   \n",
       "\n",
       "  teamColor  \n",
       "0   #085098  \n",
       "1   #bd0510  \n",
       "2   #bd0510  \n",
       "3   #bd0510  \n",
       "4   #085098  \n",
       "\n",
       "[5 rows x 30 columns]"
      ]
     },
     "execution_count": 20,
     "metadata": {},
     "output_type": "execute_result"
    }
   ],
   "source": [
    "df_shots.head()"
   ]
  },
  {
   "cell_type": "code",
   "execution_count": 21,
   "metadata": {},
   "outputs": [
    {
     "data": {
      "text/plain": [
       "30"
      ]
     },
     "execution_count": 21,
     "metadata": {},
     "output_type": "execute_result"
    }
   ],
   "source": [
    "# let's check the length\n",
    "len(df_shots)"
   ]
  }
 ],
 "metadata": {
  "kernelspec": {
   "display_name": "mplsoccer",
   "language": "python",
   "name": "python3"
  },
  "language_info": {
   "codemirror_mode": {
    "name": "ipython",
    "version": 3
   },
   "file_extension": ".py",
   "mimetype": "text/x-python",
   "name": "python",
   "nbconvert_exporter": "python",
   "pygments_lexer": "ipython3",
   "version": "3.12.4"
  }
 },
 "nbformat": 4,
 "nbformat_minor": 2
}
